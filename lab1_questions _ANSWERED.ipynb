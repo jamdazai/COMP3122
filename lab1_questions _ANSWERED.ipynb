{
  "metadata": {
    "kernelspec": {
      "name": "python",
      "display_name": "Python (Pyodide)",
      "language": "python"
    },
    "language_info": {
      "codemirror_mode": {
        "name": "python",
        "version": 3
      },
      "file_extension": ".py",
      "mimetype": "text/x-python",
      "name": "python",
      "nbconvert_exporter": "python",
      "pygments_lexer": "ipython3",
      "version": "3.8"
    }
  },
  "nbformat_minor": 4,
  "nbformat": 4,
  "cells": [
    {
      "cell_type": "markdown",
      "source": "### String formatting\nYou have a few Python variables that describe your age, name, and favorite food:\n```\nname = \"Leonardo\"\nage = 27\nfavourite_food = \"Pizza\"\n```\nUsing these variables, create the following string to introduce yourself:\n```\n\"Hi! My name is Leonardo. I am 27 years old, and my favorite food is Pizza.\"\n```",
      "metadata": {}
    },
    {
      "cell_type": "code",
      "source": "name = \"Leonardo\"\nage = 27\nfavourite_food = \"Pizza\"",
      "metadata": {
        "trusted": true
      },
      "outputs": [],
      "execution_count": 7
    },
    {
      "cell_type": "code",
      "source": "# MY CODE\nname = \"Leonardo\"\nage = 27\nfavourite_food = \"Pizza\"\nprint(f\"Hi! My name is {name}. I am {age} years old, and my favourite food is {favourite_food}.\")",
      "metadata": {
        "trusted": true
      },
      "outputs": [
        {
          "name": "stdout",
          "text": "Hi! My name is Leonardo. I am 27 years old, and my favourite food is Pizza.\n",
          "output_type": "stream"
        }
      ],
      "execution_count": 218
    },
    {
      "cell_type": "markdown",
      "source": "### Letter case or logic case?\nWrite a functiond which accepts a string as input to print \"Yes\" if the string is \"yes\" or \"YES\" or \"Yes\", otherwise print \"No\".\n\nExamples:\n```\nsay_yes_maybe(\"yes\") -> \"Yes\"\nsay_yes_maybe(\"YeS\") -> \"No\"\nsay_yes_maybe(\"maybe\") - > \"No\"\n\n```",
      "metadata": {
        "jp-MarkdownHeadingCollapsed": true
      }
    },
    {
      "cell_type": "code",
      "source": "# MY CODE\ndef say_yes_maybe(s):\n    if s == \"yes\" or s == \"YES\" or s == \"Yes\":\n        return \"Yes\"\n    else:\n        return \"No\"",
      "metadata": {
        "trusted": true
      },
      "outputs": [],
      "execution_count": 197
    },
    {
      "cell_type": "code",
      "source": "# tests\nassert say_yes_maybe(\"yes\") == \"Yes\"\nassert say_yes_maybe(\"YES\") == \"Yes\"\nassert say_yes_maybe(\"Yes\") == \"Yes\"\nassert say_yes_maybe(\"no\") == \"No\"\nassert say_yes_maybe(\"YeS\") == \"No\"",
      "metadata": {
        "trusted": true
      },
      "outputs": [],
      "execution_count": 198
    },
    {
      "cell_type": "markdown",
      "source": "### Filter Positive Numbers\n\nGiven a list of integers, write a Python script to create a new list that only contains the positive numbers from the original list.\n\nExample:\n```\nInput: [1, -2, 3, -4, 5, -6, 7, -8, 9, -10]\nOutput: [1, 3, 5, 7, 9]\n```",
      "metadata": {
        "jp-MarkdownHeadingCollapsed": true
      }
    },
    {
      "cell_type": "code",
      "source": "# MY CODE\ndef filter_pos_num(lst):\n    possitive_numbers = []\n    for i in lst:\n        if i > 0:\n            possitive_numbers.append(i)\n    return possitive_numbers         ",
      "metadata": {
        "trusted": true
      },
      "outputs": [],
      "execution_count": 217
    },
    {
      "cell_type": "code",
      "source": "#tests\nassert filter_pos_num([1, 2, 3, 4, 5]) == [1, 2, 3, 4, 5]\nassert filter_pos_num([-1, -2, -3, -4, -5]) == []\nassert filter_pos_num([1, 2, 3, -4, -5]) == [1, 2, 3]",
      "metadata": {
        "trusted": true
      },
      "outputs": [],
      "execution_count": 216
    },
    {
      "cell_type": "markdown",
      "source": "### Sums of positives and negatives\nGiven a list of numbers, print separately the sum of all positive numbers in the list and the sum of all negative numbers in the list. \n\nExample:\n```\nlst = [1,-2,3,5,-8]\n9 # is the sum of 1 + 3 + 5\n-10 # is the sum of -2 + -8\n```",
      "metadata": {}
    },
    {
      "cell_type": "code",
      "source": "# MY CODE\nlst = [1, -2, 3, 5, -8]\npossitive_list = []      \nnegative_list = []       \n\nfor i in lst:            \n    if i > 0:            \n        possitive_list.append(i)   \n    else:\n        negative_list.append(i)\n\n\nsum_of_possitive_numbers = sum(possitive_list)   \nprint(sum_of_possitive_numbers)\nsum_of_negative_numbers = sum(negative_list) \nprint(sum_of_negative_numbers)",
      "metadata": {
        "trusted": true
      },
      "outputs": [
        {
          "name": "stdout",
          "text": "9\n-10\n",
          "output_type": "stream"
        }
      ],
      "execution_count": 219
    },
    {
      "cell_type": "markdown",
      "source": "### Count Vowels and Consonants\n\nWrite a Python script that takes a string input and counts the number of vowels and consonants in the string. Start with this string `\"Python Programming is Fun!\"`.\n\nHint: \n- use input_string.lower() to convert the string to lowercase\n- for a given char use `char.isalpha()` to check if it is a letter\n- check if char is in `['a', 'e', 'i', 'o', 'u']` to check if it is a vowel.",
      "metadata": {
        "jp-MarkdownHeadingCollapsed": true
      }
    },
    {
      "cell_type": "code",
      "source": "VOWELS = [\"a\", \"e\", \"i\", \"o\", \"u\"]",
      "metadata": {
        "trusted": true
      },
      "outputs": [],
      "execution_count": 223
    },
    {
      "cell_type": "code",
      "source": "def vowels_consonants_counter(input_string):\n    input_string = input_string.lower()\n    vowels_count = 0\n    consonants_count = 0\n\n    for char in input_string:\n        if char.isalpha():\n            if char in VOWELS:\n                vowels_count += 1\n            else:\n                consonants_count += 1\n    return vowels_count, consonants_count\n\ninput_string = \"Python Programming is Fun!\"\nvowels, consonants = vowels_consonants_counter(input_string)\n\n# PRINT EXAMPLE\nprint(f\"Example word: {input_string}\")\nprint(f\"Vowels: {vowels}\")\nprint(f\"Consonants: {consonants}\")",
      "metadata": {
        "trusted": true
      },
      "outputs": [
        {
          "name": "stdout",
          "text": "Example word: Python Programming is Fun!\nVowels: 6\nConsonants: 16\n",
          "output_type": "stream"
        }
      ],
      "execution_count": 232
    },
    {
      "cell_type": "markdown",
      "source": "### Super vowels\nImplement `super_vowels` function which takes a string as an argument and returns a modified version of that string. In the return value of `super_vowels`, all vowels should be in upper case whereas all consonants should be in lower case. The vowels are listed in the `VOWELS` variable.",
      "metadata": {
        "jp-MarkdownHeadingCollapsed": true
      }
    },
    {
      "cell_type": "code",
      "source": "VOWELS = [\"a\", \"e\", \"i\", \"o\", \"u\"]",
      "metadata": {
        "trusted": true
      },
      "outputs": [],
      "execution_count": 233
    },
    {
      "cell_type": "code",
      "source": "# MY CODE\ndef super_vowels(s):\n    result = []\n\n    for char in s:\n        if char.lower() in VOWELS:\n            result.append(char.upper())\n        elif char.isalpha():\n            result.append(char.lower())\n        else:\n            result.append(char)\n    return ''.join(result)",
      "metadata": {
        "trusted": true
      },
      "outputs": [],
      "execution_count": 240
    },
    {
      "cell_type": "code",
      "source": "# tests\nassert super_vowels(\"hi wassup!\") == \"hI wAssUp!\"\nassert super_vowels(\"HOw aRE You?\") == \"hOw ArE yOU?\"",
      "metadata": {
        "trusted": true
      },
      "outputs": [],
      "execution_count": 241
    },
    {
      "cell_type": "markdown",
      "source": "### Salad weight\nYou are given a recipe for a salad as a dictionary. The keys are the ingredient names and the values are the amounts given in grams. Calculate the total weight of the salad.",
      "metadata": {
        "jp-MarkdownHeadingCollapsed": true
      }
    },
    {
      "cell_type": "code",
      "source": "salad = {\n    \"cucumbers\": 100,\n    \"tomatoes\": 200,\n    \"radishes\": 50,\n    \"sour cream\": 200,\n}",
      "metadata": {
        "trusted": true
      },
      "outputs": [],
      "execution_count": 158
    },
    {
      "cell_type": "code",
      "source": "# MY CODE\ntotal = sum(salad.values())\nprint(f\"Total weight of the salad is: {total} grams.\")",
      "metadata": {
        "trusted": true
      },
      "outputs": [
        {
          "name": "stdout",
          "text": "Total weight of the salad is: 550 grams.\n",
          "output_type": "stream"
        }
      ],
      "execution_count": 184
    },
    {
      "cell_type": "markdown",
      "source": "### String formatting with numbers - advanced\nYou can use the following code to print the value of Pi\n```\nimport math\nx = math.pi\nprint(x)\n```\nThe output is: 3.141592653589793\n\nWrite a function `short_pi()` that returns a string with only n digits of pi after the period\nExamples:\n```\nshort_pi(2) -> \"3.14\"\nshort_pi(5) -> \"3.14159\" \n```",
      "metadata": {
        "jp-MarkdownHeadingCollapsed": true
      }
    },
    {
      "cell_type": "code",
      "source": "# example\nimport math\nx = math.pi\nprint(x)",
      "metadata": {},
      "outputs": [
        {
          "name": "stdout",
          "output_type": "stream",
          "text": [
            "3.141592653589793\n"
          ]
        }
      ],
      "execution_count": 5
    },
    {
      "cell_type": "code",
      "source": "# MY CODE\nimport math\ndef short_pi(n):\n    return f\"{math.pi:.{n}f}\"\n\nprint(short_pi(2))\nprint(short_pi(5))",
      "metadata": {
        "trusted": true
      },
      "outputs": [
        {
          "name": "stdout",
          "text": "3.14\n3.14159\n",
          "output_type": "stream"
        }
      ],
      "execution_count": 179
    },
    {
      "cell_type": "code",
      "source": "# tests\nassert short_pi(2) == \"3.14\"\nassert short_pi(5) == \"3.14159\"",
      "metadata": {
        "trusted": true
      },
      "outputs": [],
      "execution_count": 180
    },
    {
      "cell_type": "markdown",
      "source": "### Reverse a string - two pointer approach\nWrite a function that reverses a string. The input string is given as an array of characters s.\n\nYou must do this by modifying the input array in-place with O(1) extra memory.\n\n \nExample 1:\n```\nInput: s = [\"h\",\"e\",\"l\",\"l\",\"o\"]\nOutput: [\"o\",\"l\",\"l\",\"e\",\"h\"]\n```\n\nExample 2:\n```\nInput: s = [\"H\",\"a\",\"n\",\"n\",\"a\",\"h\"]\nOutput: [\"h\",\"a\",\"n\",\"n\",\"a\",\"H\"]\n```",
      "metadata": {
        "jp-MarkdownHeadingCollapsed": true
      }
    },
    {
      "cell_type": "code",
      "source": "# MY CODE\ninput_word = \"laptop\"\noutput_word =  list(input_word[::-1])\n\nprint(f\"The output of the provided word is: {output_word}\" )",
      "metadata": {
        "trusted": true
      },
      "outputs": [
        {
          "name": "stdout",
          "text": "The output of the provided word is: ['p', 'o', 't', 'p', 'a', 'l']\n",
          "output_type": "stream"
        }
      ],
      "execution_count": 182
    }
  ]
}