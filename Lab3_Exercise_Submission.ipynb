{
  "cells": [
    {
      "cell_type": "markdown",
      "metadata": {
        "id": "p79en9cGMB3N"
      },
      "source": [
        "# Lab exercise, week 3 - numpy & matplotlib basics\n",
        "\n",
        "Contents:\n",
        "- Overview of numpy arrays\n",
        "- Exercises for numpy\n",
        "- Exercises for plotting"
      ]
    },
    {
      "cell_type": "markdown",
      "metadata": {
        "id": "5t5PI3QyMB3P"
      },
      "source": [
        "## NumPy - overview\n",
        "\n",
        "Python lists are somewhat weird creatures. In contrast to basic array types in other languages like C# and Java, they can hold objects of different types and new elements can be inserted in the middle. NumPy arrays are much more like C# arrays - all elements have the same type."
      ]
    },
    {
      "cell_type": "code",
      "execution_count": 1,
      "metadata": {
        "id": "ZyR_gBgMMB3Q"
      },
      "outputs": [],
      "source": [
        "# by convention numpy is always imported as np\n",
        "import numpy as np"
      ]
    },
    {
      "cell_type": "markdown",
      "metadata": {
        "id": "Bc5o43FdMB3Q"
      },
      "source": [
        "### Common ways of creating numpy arrays"
      ]
    },
    {
      "cell_type": "code",
      "execution_count": 2,
      "metadata": {
        "colab": {
          "base_uri": "https://localhost:8080/"
        },
        "id": "LDSplxeTMB3R",
        "outputId": "359d8cce-7c24-4d61-8ef7-49b0c5c80d20"
      },
      "outputs": [
        {
          "output_type": "execute_result",
          "data": {
            "text/plain": [
              "array([ 5,  2, 17])"
            ]
          },
          "metadata": {},
          "execution_count": 2
        }
      ],
      "source": [
        "a = np.array([5, 2, 17])  # Convert a Python list into a numpy array\n",
        "a"
      ]
    },
    {
      "cell_type": "code",
      "execution_count": 3,
      "metadata": {
        "colab": {
          "base_uri": "https://localhost:8080/"
        },
        "id": "mf-KyACJMB3R",
        "outputId": "6206e47c-e1af-4aa1-f999-f808c5c99fe2"
      },
      "outputs": [
        {
          "output_type": "execute_result",
          "data": {
            "text/plain": [
              "array([[5, 7, 2],\n",
              "       [9, 4, 1]])"
            ]
          },
          "metadata": {},
          "execution_count": 3
        }
      ],
      "source": [
        "# List of lists gets converted into a 2D array\n",
        "np.array([[5, 7, 2],\n",
        "          [9, 4, 1]])\n"
      ]
    },
    {
      "cell_type": "code",
      "execution_count": 4,
      "metadata": {
        "colab": {
          "base_uri": "https://localhost:8080/"
        },
        "id": "Z5TFD9rPMB3S",
        "outputId": "6dbfc654-0779-421e-fb59-497dcb394113"
      },
      "outputs": [
        {
          "output_type": "execute_result",
          "data": {
            "text/plain": [
              "array([0, 1, 2, 3, 4])"
            ]
          },
          "metadata": {},
          "execution_count": 4
        }
      ],
      "source": [
        "np.arange(5)  # Same as Python's range() but creates a numpy array"
      ]
    },
    {
      "cell_type": "code",
      "execution_count": 5,
      "metadata": {
        "colab": {
          "base_uri": "https://localhost:8080/"
        },
        "id": "BRQp1JmoMB3S",
        "outputId": "2ccacabc-9790-4731-9ea7-611af6f26091"
      },
      "outputs": [
        {
          "output_type": "execute_result",
          "data": {
            "text/plain": [
              "array([0., 0., 0., 0., 0.])"
            ]
          },
          "metadata": {},
          "execution_count": 5
        }
      ],
      "source": [
        "np.zeros(5)  # Create a numpy array with five elements, all set to zero"
      ]
    },
    {
      "cell_type": "code",
      "execution_count": 6,
      "metadata": {
        "colab": {
          "base_uri": "https://localhost:8080/"
        },
        "id": "dWlFmFBRMB3S",
        "outputId": "d5f5d745-770b-4d58-9fbc-68e60af9ddd6"
      },
      "outputs": [
        {
          "output_type": "execute_result",
          "data": {
            "text/plain": [
              "array([1., 1., 1., 1., 1., 1., 1.])"
            ]
          },
          "metadata": {},
          "execution_count": 6
        }
      ],
      "source": [
        "c = np.ones(7)  # Create a numpy array with five elements, all set to 1\n",
        "c"
      ]
    },
    {
      "cell_type": "code",
      "execution_count": 7,
      "metadata": {
        "colab": {
          "base_uri": "https://localhost:8080/"
        },
        "id": "WIiZ4yoTMB3T",
        "outputId": "2a6b3178-d478-49dd-9bab-5f69c770aae1"
      },
      "outputs": [
        {
          "output_type": "execute_result",
          "data": {
            "text/plain": [
              "array([0.52603374, 0.30416909, 0.12940606, 0.07126516, 0.93514515,\n",
              "       0.50296702])"
            ]
          },
          "metadata": {},
          "execution_count": 7
        }
      ],
      "source": [
        "# Array of 6 random numbers between 0 and 1\n",
        "np.random.rand(6)"
      ]
    },
    {
      "cell_type": "code",
      "execution_count": 8,
      "metadata": {
        "colab": {
          "base_uri": "https://localhost:8080/"
        },
        "id": "tTS8OpcWMB3T",
        "outputId": "e3f07ba4-8335-4a76-f261-b98f26bcb0fc"
      },
      "outputs": [
        {
          "output_type": "execute_result",
          "data": {
            "text/plain": [
              "array([64,  6,  8, 54, 26, 16])"
            ]
          },
          "metadata": {},
          "execution_count": 8
        }
      ],
      "source": [
        "# array with 6 random integers between 0 and 100 (not including 100 as usual)\n",
        "np.random.randint(100, size=6)"
      ]
    },
    {
      "cell_type": "markdown",
      "metadata": {
        "id": "G5o6gXTaMB3T"
      },
      "source": [
        "### Array properties"
      ]
    },
    {
      "cell_type": "code",
      "execution_count": 9,
      "metadata": {
        "colab": {
          "base_uri": "https://localhost:8080/"
        },
        "id": "a1K1JE02MB3U",
        "outputId": "efda937b-7f73-4024-9f26-fc34672d94ca"
      },
      "outputs": [
        {
          "output_type": "execute_result",
          "data": {
            "text/plain": [
              "array([[5, 7, 2],\n",
              "       [9, 4, 1]])"
            ]
          },
          "metadata": {},
          "execution_count": 9
        }
      ],
      "source": [
        "b = np.array([[5, 7, 2],\n",
        "              [9, 4, 1]])\n",
        "b"
      ]
    },
    {
      "cell_type": "code",
      "execution_count": 10,
      "metadata": {
        "colab": {
          "base_uri": "https://localhost:8080/"
        },
        "id": "ithLvBcHMB3U",
        "outputId": "c45a72b8-f3d3-478c-a6ce-27c98b1302db"
      },
      "outputs": [
        {
          "output_type": "execute_result",
          "data": {
            "text/plain": [
              "dtype('int64')"
            ]
          },
          "metadata": {},
          "execution_count": 10
        }
      ],
      "source": [
        "# Data type of the array\n",
        "a.dtype"
      ]
    },
    {
      "cell_type": "code",
      "execution_count": 11,
      "metadata": {
        "colab": {
          "base_uri": "https://localhost:8080/"
        },
        "id": "XvNtunIKMB3U",
        "outputId": "e6cdfe8f-05e5-41c9-f009-68fbf708162c"
      },
      "outputs": [
        {
          "output_type": "execute_result",
          "data": {
            "text/plain": [
              "2"
            ]
          },
          "metadata": {},
          "execution_count": 11
        }
      ],
      "source": [
        "# number of dimensions\n",
        "b.ndim"
      ]
    },
    {
      "cell_type": "code",
      "execution_count": 12,
      "metadata": {
        "colab": {
          "base_uri": "https://localhost:8080/"
        },
        "id": "vPmvOa9hMB3U",
        "outputId": "bfe5832e-e3c8-4c37-a75d-88e72e3a869a"
      },
      "outputs": [
        {
          "output_type": "execute_result",
          "data": {
            "text/plain": [
              "(2, 3)"
            ]
          },
          "metadata": {},
          "execution_count": 12
        }
      ],
      "source": [
        "# array shape is a Python tuple, in this case it's (2, 3) because b is a 2 by 3 array.\n",
        "b.shape"
      ]
    },
    {
      "cell_type": "code",
      "execution_count": 13,
      "metadata": {
        "colab": {
          "base_uri": "https://localhost:8080/"
        },
        "id": "PVfVhURkMB3V",
        "outputId": "81f9db71-157e-4c71-becd-29b4c48087c2"
      },
      "outputs": [
        {
          "output_type": "execute_result",
          "data": {
            "text/plain": [
              "6"
            ]
          },
          "metadata": {},
          "execution_count": 13
        }
      ],
      "source": [
        "# The total number of elements\n",
        "b.size"
      ]
    },
    {
      "cell_type": "code",
      "execution_count": 14,
      "metadata": {
        "colab": {
          "base_uri": "https://localhost:8080/"
        },
        "id": "KfdQicAyMB3V",
        "outputId": "1b6cbda1-bcb6-4a0b-c374-b9da4960e49c"
      },
      "outputs": [
        {
          "output_type": "execute_result",
          "data": {
            "text/plain": [
              "dtype('float64')"
            ]
          },
          "metadata": {},
          "execution_count": 14
        }
      ],
      "source": [
        "# Note that zeros byt default uses the float64 data type\n",
        "z = np.zeros(7)\n",
        "z.dtype"
      ]
    },
    {
      "cell_type": "code",
      "execution_count": 15,
      "metadata": {
        "colab": {
          "base_uri": "https://localhost:8080/"
        },
        "id": "2OlBZPNmMB3V",
        "outputId": "d8cb2289-03b5-4f92-fc9b-963296559eb0"
      },
      "outputs": [
        {
          "output_type": "execute_result",
          "data": {
            "text/plain": [
              "dtype('int8')"
            ]
          },
          "metadata": {},
          "execution_count": 15
        }
      ],
      "source": [
        "# But data type can be set explicitly, almost all numpy functions that create arrays take an optional dtype parameter\n",
        "# Let's set it to an 8 bit integer\n",
        "z = np.zeros(7, dtype=np.int8)\n",
        "z.dtype"
      ]
    },
    {
      "cell_type": "markdown",
      "metadata": {
        "id": "jBslbR_nMB3V"
      },
      "source": [
        "## Exercises\n",
        "\n",
        "Read section 2.2 of the book (The Basics of NumPy Arrays) and complete the tasks below.\n"
      ]
    },
    {
      "cell_type": "markdown",
      "metadata": {
        "id": "d3F4TXp7MB3V"
      },
      "source": [
        "### Numpy Array Creation"
      ]
    },
    {
      "cell_type": "markdown",
      "metadata": {
        "id": "Hwccexi7MB3W"
      },
      "source": [
        "##### Convert a list into a numpy array"
      ]
    },
    {
      "cell_type": "code",
      "execution_count": 16,
      "metadata": {
        "colab": {
          "base_uri": "https://localhost:8080/"
        },
        "id": "fXfc1Mu-MB3W",
        "outputId": "8314537d-374c-43ae-9e25-ed7918ea2e28"
      },
      "outputs": [
        {
          "output_type": "execute_result",
          "data": {
            "text/plain": [
              "[5, 3, 8, 4]"
            ]
          },
          "metadata": {},
          "execution_count": 16
        }
      ],
      "source": [
        "lst = [5, 3, 8, 4]\n",
        "lst"
      ]
    },
    {
      "cell_type": "code",
      "execution_count": 17,
      "metadata": {
        "colab": {
          "base_uri": "https://localhost:8080/"
        },
        "id": "rbP-ZyaXMB3W",
        "outputId": "5444c917-3505-44c7-cb59-e53c4d189784"
      },
      "outputs": [
        {
          "output_type": "execute_result",
          "data": {
            "text/plain": [
              "array([1, 3, 5, 7])"
            ]
          },
          "metadata": {},
          "execution_count": 17
        }
      ],
      "source": [
        "# your code here\n",
        "x = np.array([1, 3, 5, 7])\n",
        "x"
      ]
    },
    {
      "cell_type": "markdown",
      "metadata": {
        "id": "S5XPSRIsMB3W"
      },
      "source": [
        "#### What happens when you multiply a list by 3, what a about an array multiplied by 3?"
      ]
    },
    {
      "cell_type": "code",
      "execution_count": 18,
      "metadata": {
        "colab": {
          "base_uri": "https://localhost:8080/"
        },
        "id": "S0kOpLXmMB3W",
        "outputId": "a1a074a1-8d62-415e-d2f4-cf1603a52727"
      },
      "outputs": [
        {
          "output_type": "execute_result",
          "data": {
            "text/plain": [
              "[5, 3, 8, 4, 5, 3, 8, 4, 5, 3, 8, 4]"
            ]
          },
          "metadata": {},
          "execution_count": 18
        }
      ],
      "source": [
        "# Feel free to add more cells\n",
        "\n",
        "# Multiply the list\n",
        "multiply_list = (lst * 3)\n",
        "multiply_list"
      ]
    },
    {
      "cell_type": "code",
      "source": [
        "# Multiply array\n",
        "multiply_array = (x * 3)\n",
        "multiply_array\n",
        "\n",
        "# Answer:\n",
        "#"
      ],
      "metadata": {
        "colab": {
          "base_uri": "https://localhost:8080/"
        },
        "id": "O8cdTR8cNbh2",
        "outputId": "f0f79efb-ca63-439c-97aa-082dbf2a5f77"
      },
      "execution_count": 19,
      "outputs": [
        {
          "output_type": "execute_result",
          "data": {
            "text/plain": [
              "array([ 3,  9, 15, 21])"
            ]
          },
          "metadata": {},
          "execution_count": 19
        }
      ]
    },
    {
      "cell_type": "markdown",
      "metadata": {
        "id": "4vCeQ5vIMB3W"
      },
      "source": [
        "#### Create an array of 10 ones [1, 1, 1, ... ]"
      ]
    },
    {
      "cell_type": "code",
      "execution_count": 20,
      "metadata": {
        "colab": {
          "base_uri": "https://localhost:8080/"
        },
        "id": "nBreBHRGMB3W",
        "outputId": "ff9e05ca-a333-4f04-e5c1-52945f7c79e3"
      },
      "outputs": [
        {
          "output_type": "execute_result",
          "data": {
            "text/plain": [
              "array([1., 1., 1., 1., 1., 1., 1., 1., 1., 1.])"
            ]
          },
          "metadata": {},
          "execution_count": 20
        }
      ],
      "source": [
        "array_of_tens = np.ones(10)\n",
        "array_of_tens.dtype\n",
        "array_of_tens\n",
        "\n",
        "# The output is not what I desired.\n",
        "# It contains decimal point in the end because the data type is 'float64'"
      ]
    },
    {
      "cell_type": "code",
      "source": [
        "array_of_tens = np.ones(10, dtype=int)\n",
        "array_of_tens\n",
        "\n",
        "# here I changed the data type into int to get the desired output"
      ],
      "metadata": {
        "colab": {
          "base_uri": "https://localhost:8080/"
        },
        "id": "HeGIYiVlOqsh",
        "outputId": "3842affd-a2ec-4f79-c3d5-2ff68d434a81"
      },
      "execution_count": 21,
      "outputs": [
        {
          "output_type": "execute_result",
          "data": {
            "text/plain": [
              "array([1, 1, 1, 1, 1, 1, 1, 1, 1, 1])"
            ]
          },
          "metadata": {},
          "execution_count": 21
        }
      ]
    },
    {
      "cell_type": "markdown",
      "metadata": {
        "id": "sByYAI6nMB3W"
      },
      "source": [
        "#### Create an array of 10 fives [5, 5, 5, .... ]"
      ]
    },
    {
      "cell_type": "code",
      "execution_count": 22,
      "metadata": {
        "colab": {
          "base_uri": "https://localhost:8080/"
        },
        "id": "ZkCGhMuAMB3W",
        "outputId": "4ee8db6d-ad04-42d2-eaf0-0031c5009fee"
      },
      "outputs": [
        {
          "output_type": "execute_result",
          "data": {
            "text/plain": [
              "array([5, 5, 5, 5, 5, 5, 5, 5, 5, 5])"
            ]
          },
          "metadata": {},
          "execution_count": 22
        }
      ],
      "source": [
        "array_of_five = np.ones(10, dtype=int) * 5\n",
        "array_of_five\n",
        "\n",
        "# Since there is no \"np.fives\" in python.\n",
        "# What I did is I printed 10 ones and then multiply each element to 5.\n",
        "# I also made sure the data type is int and not float 64\n",
        "# Because the output would be decimal if I did that."
      ]
    },
    {
      "cell_type": "markdown",
      "metadata": {
        "id": "lHSvWTs-MB3X"
      },
      "source": [
        "#### Create an array of the integers from 10 to 50 (including 50)"
      ]
    },
    {
      "cell_type": "code",
      "execution_count": 23,
      "metadata": {
        "colab": {
          "base_uri": "https://localhost:8080/"
        },
        "id": "mfbHMsY9MB3X",
        "outputId": "b85911c7-103d-40c2-ad69-bf28634cfa90"
      },
      "outputs": [
        {
          "output_type": "execute_result",
          "data": {
            "text/plain": [
              "array([10, 11, 12, 13, 14, 15, 16, 17, 18, 19, 20, 21, 22, 23, 24, 25, 26,\n",
              "       27, 28, 29, 30, 31, 32, 33, 34, 35, 36, 37, 38, 39, 40, 41, 42, 43,\n",
              "       44, 45, 46, 47, 48, 49, 50])"
            ]
          },
          "metadata": {},
          "execution_count": 23
        }
      ],
      "source": [
        "array_of_integers = np.arange(10, 51)\n",
        "array_of_integers"
      ]
    },
    {
      "cell_type": "markdown",
      "metadata": {
        "id": "7EZBvK40MB3X"
      },
      "source": [
        "#### Create an array of 10 random numbers between 0 and 5"
      ]
    },
    {
      "cell_type": "code",
      "execution_count": 24,
      "metadata": {
        "colab": {
          "base_uri": "https://localhost:8080/"
        },
        "id": "GQ9BN5E7MB3X",
        "outputId": "c51a9985-29e3-4f05-916d-111e80be2f1c"
      },
      "outputs": [
        {
          "output_type": "execute_result",
          "data": {
            "text/plain": [
              "array([4.51295657, 1.70810248, 3.02958298, 0.20127433, 2.15240874,\n",
              "       3.23369626, 4.80828098, 2.30501239, 4.29604767, 4.07999821])"
            ]
          },
          "metadata": {},
          "execution_count": 24
        }
      ],
      "source": [
        "random_ten = np.random.rand(10) * 5\n",
        "random_ten"
      ]
    },
    {
      "cell_type": "markdown",
      "metadata": {
        "id": "Swu0lo2KMB3X"
      },
      "source": [
        "#### Read the help for np.linspace function and create an array of 11 evenly spaced elements between 0 and 2\n",
        "use `np.linspace?` or `?np.linspace` to show the help"
      ]
    },
    {
      "cell_type": "code",
      "execution_count": 25,
      "metadata": {
        "colab": {
          "base_uri": "https://localhost:8080/"
        },
        "id": "uNXNDK2xMB3Y",
        "outputId": "a446371f-dcde-4350-9051-7b86fc6554eb"
      },
      "outputs": [
        {
          "output_type": "execute_result",
          "data": {
            "text/plain": [
              "array([0. , 0.2, 0.4, 0.6, 0.8, 1. , 1.2, 1.4, 1.6, 1.8, 2. ])"
            ]
          },
          "metadata": {},
          "execution_count": 25
        }
      ],
      "source": [
        "array_of_eleven = np.linspace(0, 2, 11)\n",
        "array_of_eleven"
      ]
    },
    {
      "cell_type": "markdown",
      "metadata": {
        "id": "dpra-przMB3Y"
      },
      "source": [
        "#### Create a 3 by 4 array of ones"
      ]
    },
    {
      "cell_type": "code",
      "execution_count": 26,
      "metadata": {
        "colab": {
          "base_uri": "https://localhost:8080/"
        },
        "id": "TBAdVTqzMB3Y",
        "outputId": "b81d47b6-6855-48f5-daa8-700424915ecf"
      },
      "outputs": [
        {
          "output_type": "execute_result",
          "data": {
            "text/plain": [
              "array([1, 1, 1, 1, 1, 1, 1, 1, 1, 1, 1, 1])"
            ]
          },
          "metadata": {},
          "execution_count": 26
        }
      ],
      "source": [
        "three_by_four_ones = np.ones(12, dtype=int)\n",
        "three_by_four_ones"
      ]
    },
    {
      "cell_type": "code",
      "source": [
        "three_by_four_ones.reshape(3, 4)"
      ],
      "metadata": {
        "colab": {
          "base_uri": "https://localhost:8080/"
        },
        "id": "O8Eeu7hLU_4P",
        "outputId": "d59e8e11-cc26-4532-a3fe-c5d673ab858e"
      },
      "execution_count": 27,
      "outputs": [
        {
          "output_type": "execute_result",
          "data": {
            "text/plain": [
              "array([[1, 1, 1, 1],\n",
              "       [1, 1, 1, 1],\n",
              "       [1, 1, 1, 1]])"
            ]
          },
          "metadata": {},
          "execution_count": 27
        }
      ]
    },
    {
      "cell_type": "markdown",
      "metadata": {
        "id": "ORyu7BPGMB3Y"
      },
      "source": [
        "#### Create a 3 by 4 array of fives"
      ]
    },
    {
      "cell_type": "code",
      "execution_count": 28,
      "metadata": {
        "colab": {
          "base_uri": "https://localhost:8080/"
        },
        "id": "QOO8M6rZMB3a",
        "outputId": "47ed7735-d9d6-430c-f792-e035bafed65a"
      },
      "outputs": [
        {
          "output_type": "execute_result",
          "data": {
            "text/plain": [
              "array([5, 5, 5, 5, 5, 5, 5, 5, 5, 5, 5, 5])"
            ]
          },
          "metadata": {},
          "execution_count": 28
        }
      ],
      "source": [
        "three_by_fours_fives = np.ones(12, dtype=int) * 5\n",
        "three_by_fours_fives"
      ]
    },
    {
      "cell_type": "code",
      "source": [
        "three_by_fours_fives.reshape(3, 4)"
      ],
      "metadata": {
        "colab": {
          "base_uri": "https://localhost:8080/"
        },
        "id": "56kiaHAhVbJ3",
        "outputId": "19ef929f-7643-4dc3-f9a5-67afa7a5dfdb"
      },
      "execution_count": 29,
      "outputs": [
        {
          "output_type": "execute_result",
          "data": {
            "text/plain": [
              "array([[5, 5, 5, 5],\n",
              "       [5, 5, 5, 5],\n",
              "       [5, 5, 5, 5]])"
            ]
          },
          "metadata": {},
          "execution_count": 29
        }
      ]
    },
    {
      "cell_type": "markdown",
      "metadata": {
        "id": "JBuyhFNuMB3a"
      },
      "source": [
        "### Array Indexing\n",
        "Using the following arrays `a` and `m` for the questions below"
      ]
    },
    {
      "cell_type": "code",
      "execution_count": 30,
      "metadata": {
        "colab": {
          "base_uri": "https://localhost:8080/"
        },
        "id": "hGUAWoWTMB3a",
        "outputId": "0982153b-b366-4e49-b2f1-bf0bde5dd45d"
      },
      "outputs": [
        {
          "output_type": "execute_result",
          "data": {
            "text/plain": [
              "array([10, 11, 12, 13, 14, 15, 16, 17, 18, 19, 20])"
            ]
          },
          "metadata": {},
          "execution_count": 30
        }
      ],
      "source": [
        "a = np.arange(10,21)\n",
        "a"
      ]
    },
    {
      "cell_type": "code",
      "execution_count": 31,
      "metadata": {
        "colab": {
          "base_uri": "https://localhost:8080/"
        },
        "id": "Ur-ZkP9fMB3a",
        "outputId": "5a0daeed-5020-4cf4-992a-8c6dd6ee7a7d"
      },
      "outputs": [
        {
          "output_type": "execute_result",
          "data": {
            "text/plain": [
              "array([[ 1,  2,  3,  4,  5,  6,  7],\n",
              "       [ 8,  9, 10, 11, 12, 13, 14],\n",
              "       [15, 16, 17, 18, 19, 20, 21]])"
            ]
          },
          "metadata": {},
          "execution_count": 31
        }
      ],
      "source": [
        "m = np.arange(1,22).reshape((3,7))\n",
        "m"
      ]
    },
    {
      "cell_type": "markdown",
      "metadata": {
        "id": "LHPrxwusMB3b"
      },
      "source": [
        "### Create an array containing...\n",
        "#### the first 4 elements of a"
      ]
    },
    {
      "cell_type": "code",
      "execution_count": 32,
      "metadata": {
        "colab": {
          "base_uri": "https://localhost:8080/"
        },
        "id": "htbIju1AMB3b",
        "outputId": "182d25ba-2566-4516-c7fc-2b799b3aba16"
      },
      "outputs": [
        {
          "output_type": "execute_result",
          "data": {
            "text/plain": [
              "array([10, 11, 12, 13])"
            ]
          },
          "metadata": {},
          "execution_count": 32
        }
      ],
      "source": [
        "first_four_of_a = a[:4]\n",
        "first_four_of_a"
      ]
    },
    {
      "cell_type": "markdown",
      "metadata": {
        "id": "BHCFtcWyMB3b"
      },
      "source": [
        "#### the last 3 elements of a"
      ]
    },
    {
      "cell_type": "code",
      "execution_count": 33,
      "metadata": {
        "colab": {
          "base_uri": "https://localhost:8080/"
        },
        "id": "egEFwAkwMB3c",
        "outputId": "e4390f01-9bec-49bc-c0d5-4d71c64e5b39"
      },
      "outputs": [
        {
          "output_type": "execute_result",
          "data": {
            "text/plain": [
              "array([18, 19, 20])"
            ]
          },
          "metadata": {},
          "execution_count": 33
        }
      ],
      "source": [
        "last_three_of_a = a[-3:]\n",
        "last_three_of_a"
      ]
    },
    {
      "cell_type": "markdown",
      "metadata": {
        "id": "xNCVJMxlMB3c"
      },
      "source": [
        "#### The middle elements of a from 15 to 18 inclusive"
      ]
    },
    {
      "cell_type": "code",
      "execution_count": 34,
      "metadata": {
        "colab": {
          "base_uri": "https://localhost:8080/"
        },
        "id": "fLOgEE8qMB3c",
        "outputId": "6f3e9e56-b0b9-4ba7-9601-1f3b45b9130d"
      },
      "outputs": [
        {
          "output_type": "execute_result",
          "data": {
            "text/plain": [
              "array([15, 16, 17, 18])"
            ]
          },
          "metadata": {},
          "execution_count": 34
        }
      ],
      "source": [
        "middle_elements = a[5:9]\n",
        "middle_elements"
      ]
    },
    {
      "cell_type": "markdown",
      "metadata": {
        "id": "93vKL36FMB3c"
      },
      "source": [
        "#### The first column of m"
      ]
    },
    {
      "cell_type": "code",
      "execution_count": 35,
      "metadata": {
        "colab": {
          "base_uri": "https://localhost:8080/"
        },
        "id": "JnIZv3glMB3c",
        "outputId": "1fd48f3b-b805-4d90-c72a-24e0559b7b74"
      },
      "outputs": [
        {
          "output_type": "execute_result",
          "data": {
            "text/plain": [
              "array([ 1,  8, 15])"
            ]
          },
          "metadata": {},
          "execution_count": 35
        }
      ],
      "source": [
        "first_column_of_m = m[:,0]\n",
        "first_column_of_m"
      ]
    },
    {
      "cell_type": "markdown",
      "metadata": {
        "id": "txNARFXbMB3c"
      },
      "source": [
        "#### The middle row of m"
      ]
    },
    {
      "cell_type": "code",
      "execution_count": 36,
      "metadata": {
        "colab": {
          "base_uri": "https://localhost:8080/"
        },
        "id": "sOnhnQ85MB3c",
        "outputId": "b353c4bd-86e6-4a44-a5c9-776312a7ce6e"
      },
      "outputs": [
        {
          "output_type": "execute_result",
          "data": {
            "text/plain": [
              "array([ 8,  9, 10, 11, 12, 13, 14])"
            ]
          },
          "metadata": {},
          "execution_count": 36
        }
      ],
      "source": [
        "middle_row_of_m = m[1, :]\n",
        "middle_row_of_m"
      ]
    },
    {
      "cell_type": "markdown",
      "metadata": {
        "id": "MUWod6UBMB3c"
      },
      "source": [
        "#### The left 3 columns of m"
      ]
    },
    {
      "cell_type": "code",
      "execution_count": 37,
      "metadata": {
        "colab": {
          "base_uri": "https://localhost:8080/"
        },
        "id": "QDEHlvTLMB3d",
        "outputId": "81c37fab-f52b-4d12-d83e-7e34082e3676"
      },
      "outputs": [
        {
          "output_type": "execute_result",
          "data": {
            "text/plain": [
              "array([[ 1,  2,  3],\n",
              "       [ 8,  9, 10],\n",
              "       [15, 16, 17]])"
            ]
          },
          "metadata": {},
          "execution_count": 37
        }
      ],
      "source": [
        "left_columns_of_m = m[:, :3]\n",
        "left_columns_of_m\n"
      ]
    },
    {
      "cell_type": "markdown",
      "metadata": {
        "id": "x7M9HGreMB3d"
      },
      "source": [
        "#### The bottom-right 2 by 2 square"
      ]
    },
    {
      "cell_type": "code",
      "execution_count": 38,
      "metadata": {
        "colab": {
          "base_uri": "https://localhost:8080/"
        },
        "id": "bVr3RL9nMB3d",
        "outputId": "e8a6d0dc-9479-4d1c-a6a4-1f4cf13fadcc"
      },
      "outputs": [
        {
          "output_type": "execute_result",
          "data": {
            "text/plain": [
              "array([[13, 14],\n",
              "       [20, 21]])"
            ]
          },
          "metadata": {},
          "execution_count": 38
        }
      ],
      "source": [
        "bottom_right = m[-2:, -2:]\n",
        "bottom_right"
      ]
    },
    {
      "cell_type": "markdown",
      "metadata": {
        "id": "v_B5mAlzMB3d"
      },
      "source": [
        "#### (bonus) every other element of a  "
      ]
    },
    {
      "cell_type": "code",
      "execution_count": 39,
      "metadata": {
        "colab": {
          "base_uri": "https://localhost:8080/"
        },
        "id": "pVSnepc9MB3d",
        "outputId": "84d16485-312c-4a69-c965-2e33c6015dda"
      },
      "outputs": [
        {
          "output_type": "execute_result",
          "data": {
            "text/plain": [
              "array([10, 12, 14, 16, 18, 20])"
            ]
          },
          "metadata": {},
          "execution_count": 39
        }
      ],
      "source": [
        "every_other_of_a = a[::2]\n",
        "every_other_of_a"
      ]
    },
    {
      "cell_type": "markdown",
      "metadata": {
        "id": "DuyscKDFMB3d"
      },
      "source": [
        "### Array Math"
      ]
    },
    {
      "cell_type": "markdown",
      "metadata": {
        "id": "7gvtf1DvMB3e"
      },
      "source": [
        "#### Subtract 5 from each element of a"
      ]
    },
    {
      "cell_type": "code",
      "execution_count": 40,
      "metadata": {
        "colab": {
          "base_uri": "https://localhost:8080/"
        },
        "id": "_fiU-kMMMB3e",
        "outputId": "2c69d24a-889a-4191-8994-5db135a48037"
      },
      "outputs": [
        {
          "output_type": "execute_result",
          "data": {
            "text/plain": [
              "array([ 5,  6,  7,  8,  9, 10, 11, 12, 13, 14, 15])"
            ]
          },
          "metadata": {},
          "execution_count": 40
        }
      ],
      "source": [
        "subtract_five = a-5\n",
        "subtract_five"
      ]
    },
    {
      "cell_type": "markdown",
      "metadata": {
        "id": "EMRPD6HwMB3e"
      },
      "source": [
        "#### Create an array containing squares of all numbers from 1 to 10 (inclusive)"
      ]
    },
    {
      "cell_type": "code",
      "execution_count": 41,
      "metadata": {
        "colab": {
          "base_uri": "https://localhost:8080/"
        },
        "id": "l95eCcPBMB3e",
        "outputId": "b0585bc6-d149-45a5-c09a-af5eaa56562d"
      },
      "outputs": [
        {
          "output_type": "execute_result",
          "data": {
            "text/plain": [
              "array([  1,   4,   9,  16,  25,  36,  49,  64,  81, 100])"
            ]
          },
          "metadata": {},
          "execution_count": 41
        }
      ],
      "source": [
        "ten_numbers = np.arange(1,11)\n",
        "square_of_ten_numbers = ten_numbers ** 2\n",
        "\n",
        "square_of_ten_numbers"
      ]
    },
    {
      "cell_type": "markdown",
      "metadata": {
        "id": "CCpn3EicMB3e"
      },
      "source": [
        "#### Create an array containing all powers of 2 from $2^0$ to $2^{10}$ (inclusive)"
      ]
    },
    {
      "cell_type": "code",
      "execution_count": 42,
      "metadata": {
        "colab": {
          "base_uri": "https://localhost:8080/"
        },
        "id": "SRsMS0qIMB3e",
        "outputId": "d7da04f3-331f-42d1-834e-d3228ba7e330"
      },
      "outputs": [
        {
          "output_type": "execute_result",
          "data": {
            "text/plain": [
              "array([   1,    2,    4,    8,   16,   32,   64,  128,  256,  512, 1024])"
            ]
          },
          "metadata": {},
          "execution_count": 42
        }
      ],
      "source": [
        "twos = np.arange(0, 11)\n",
        "powers_of_two = 2 ** twos\n",
        "\n",
        "powers_of_two"
      ]
    },
    {
      "cell_type": "markdown",
      "metadata": {
        "id": "zHn9_m07MB3e"
      },
      "source": [
        "#### Same as above (powers of two), but subtract one from each element, that is $a_k = 2^k - 1$"
      ]
    },
    {
      "cell_type": "code",
      "execution_count": 43,
      "metadata": {
        "colab": {
          "base_uri": "https://localhost:8080/"
        },
        "id": "LljzmZOQMB3e",
        "outputId": "bbbe6ea3-0a59-443e-9f28-9703eb73e05f"
      },
      "outputs": [
        {
          "output_type": "execute_result",
          "data": {
            "text/plain": [
              "array([   0,    1,    3,    7,   15,   31,   63,  127,  255,  511, 1023])"
            ]
          },
          "metadata": {},
          "execution_count": 43
        }
      ],
      "source": [
        "subtract_two = np.arange(0, 11)\n",
        "subtract_powers_of_two = (2 ** subtract_two) - 1\n",
        "\n",
        "subtract_powers_of_two"
      ]
    },
    {
      "cell_type": "markdown",
      "metadata": {
        "id": "fArt2vbrMB3e"
      },
      "source": [
        "### Bonus task\n",
        "Write code that lists all available dtypes with specified number of bits"
      ]
    },
    {
      "cell_type": "code",
      "execution_count": 44,
      "metadata": {
        "colab": {
          "base_uri": "https://localhost:8080/"
        },
        "id": "a4MZsJO1MB3e",
        "outputId": "137c1648-2fac-4a74-fb02-d51c0b7cd9a5"
      },
      "outputs": [
        {
          "output_type": "execute_result",
          "data": {
            "text/plain": [
              "numpy.int8"
            ]
          },
          "metadata": {},
          "execution_count": 44
        }
      ],
      "source": [
        "# Hint\n",
        "np.int8"
      ]
    },
    {
      "cell_type": "code",
      "source": [
        "def list_of_datatypes():\n",
        "  dtypes_array = {\n",
        "      \"Int\": [np.int8, np.int16, np.int32, np.int64],\n",
        "      \"Uint\": [np.uint8, np.uint16, np.uint32, np.uint64],\n",
        "      \"Float\": [np.float16, np.float32, np.float64, np.float128],\n",
        "      \"Complex\": [np.complex64, np.complex128, np.complex256]\n",
        "  }\n",
        "  print(\"Available Data Types with Specified Number of Bits\\n\")\n",
        "  for dtype_category, dtypes in dtypes_array.items():\n",
        "    bit_size = [dtype(0).nbytes * 8 for dtype in dtypes]\n",
        "\n",
        "    print(f\"{dtype_category}: {','.join(map(str, bit_size))}\")\n",
        "\n",
        "list_of_datatypes()"
      ],
      "metadata": {
        "colab": {
          "base_uri": "https://localhost:8080/"
        },
        "id": "Z-fVBJifIW8h",
        "outputId": "99731232-48a2-43e5-ef79-ad3e1297accd"
      },
      "execution_count": 45,
      "outputs": [
        {
          "output_type": "stream",
          "name": "stdout",
          "text": [
            "Available Data Types with Specified Number of Bits\n",
            "\n",
            "Int: 8,16,32,64\n",
            "Uint: 8,16,32,64\n",
            "Float: 16,32,64,128\n",
            "Complex: 64,128,256\n"
          ]
        }
      ]
    },
    {
      "cell_type": "markdown",
      "metadata": {
        "id": "m_FWT-8cMB3f"
      },
      "source": [
        "## Plotting Basics\n",
        " - Use [this tutorial](https://matplotlib.org/users/pyplot_tutorial.html) as reference when (if) you get stuck\n",
        " - Execute the cells with imports, otherwise you won't have numpy and matplotlib imported and Python will complain"
      ]
    },
    {
      "cell_type": "code",
      "execution_count": 46,
      "metadata": {
        "id": "3fbX2McUMB3f"
      },
      "outputs": [],
      "source": [
        "import numpy as np\n",
        "import matplotlib.pyplot as plt"
      ]
    },
    {
      "cell_type": "code",
      "execution_count": 47,
      "metadata": {
        "id": "YI18KH6hMB3f"
      },
      "outputs": [],
      "source": [
        "# Load weather data (take a look at that CSV file on GitHub or via Excel and note column names)\n",
        "weather = np.loadtxt(\"OshawaWeather2016.csv\", skiprows=1, delimiter=',')"
      ]
    },
    {
      "cell_type": "code",
      "execution_count": 48,
      "metadata": {
        "colab": {
          "base_uri": "https://localhost:8080/"
        },
        "id": "0j33R_ATMB3f",
        "outputId": "05e65d9e-3343-4860-91bb-b866b0de55e1"
      },
      "outputs": [
        {
          "output_type": "execute_result",
          "data": {
            "text/plain": [
              "(349, 5)"
            ]
          },
          "metadata": {},
          "execution_count": 48
        }
      ],
      "source": [
        "weather.shape"
      ]
    },
    {
      "cell_type": "code",
      "execution_count": 49,
      "metadata": {
        "colab": {
          "base_uri": "https://localhost:8080/"
        },
        "id": "JW-hoU0hMB3g",
        "outputId": "1106951a-5117-465f-b076-0e2d92ae3294"
      },
      "outputs": [
        {
          "output_type": "execute_result",
          "data": {
            "text/plain": [
              "dtype('float64')"
            ]
          },
          "metadata": {},
          "execution_count": 49
        }
      ],
      "source": [
        "weather.dtype"
      ]
    },
    {
      "cell_type": "markdown",
      "metadata": {
        "id": "-UnX8ADNMB3g"
      },
      "source": [
        "#### Crate separate 1D arrays for each column (e.g: day, maxt, mint and so on)"
      ]
    },
    {
      "cell_type": "code",
      "execution_count": 50,
      "metadata": {
        "colab": {
          "base_uri": "https://localhost:8080/"
        },
        "id": "LnoHmDl-MB3g",
        "outputId": "6f81ed00-307b-4c53-80df-8663e758cb03"
      },
      "outputs": [
        {
          "output_type": "stream",
          "name": "stdout",
          "text": [
            "Day:  [  0.   1.   2.   3.   4.   5.   6.   7.   8.   9.  10.  11.  12.  13.\n",
            "  14.  15.  16.  17.  18.  19.  20.  21.  22.  23.  24.  25.  26.  27.\n",
            "  28.  29.  30.  31.  32.  33.  34.  35.  36.  37.  38.  39.  40.  41.\n",
            "  42.  43.  44.  45.  46.  48.  49.  50.  51.  52.  53.  54.  57.  58.\n",
            "  61.  62.  63.  64.  65.  66.  67.  68.  69.  70.  72.  73.  74.  75.\n",
            "  76.  77.  78.  79.  80.  81.  82.  83.  84.  85.  86.  87.  88.  89.\n",
            "  90.  91.  92.  93.  94.  95.  96.  97.  98.  99. 100. 101. 102. 103.\n",
            " 104. 105. 106. 107. 108. 109. 110. 111. 112. 113. 116. 120. 121. 122.\n",
            " 123. 124. 125. 126. 127. 128. 129. 130. 131. 132. 133. 134. 135. 137.\n",
            " 141. 142. 143. 144. 145. 146. 147. 148. 149. 150. 151. 152. 153. 154.\n",
            " 155. 156. 157. 158. 159. 160. 161. 162. 163. 164. 165. 166. 167. 168.\n",
            " 169. 170. 171. 172. 173. 174. 175. 176. 177. 178. 179. 182. 183. 184.\n",
            " 185. 186. 187. 188. 189. 190. 191. 192. 193. 194. 195. 196. 197. 198.\n",
            " 199. 200. 201. 202. 203. 204. 205. 206. 207. 208. 209. 210. 211. 212.\n",
            " 213. 214. 215. 216. 217. 218. 219. 220. 221. 222. 223. 224. 225. 226.\n",
            " 227. 228. 229. 230. 231. 232. 233. 234. 235. 236. 237. 238. 239. 240.\n",
            " 241. 242. 243. 244. 245. 246. 247. 248. 249. 250. 251. 252. 253. 254.\n",
            " 255. 256. 257. 258. 259. 260. 261. 262. 263. 264. 265. 266. 267. 268.\n",
            " 269. 270. 271. 272. 273. 274. 275. 276. 277. 278. 279. 280. 281. 282.\n",
            " 283. 284. 285. 286. 287. 288. 289. 290. 291. 292. 293. 294. 295. 296.\n",
            " 297. 298. 299. 300. 301. 302. 303. 304. 305. 306. 307. 308. 309. 310.\n",
            " 311. 312. 313. 314. 315. 316. 317. 318. 319. 320. 321. 322. 323. 324.\n",
            " 325. 326. 327. 328. 329. 330. 331. 332. 333. 334. 335. 336. 337. 338.\n",
            " 339. 340. 341. 342. 343. 344. 345. 346. 347. 348. 349. 350. 351. 352.\n",
            " 353. 354. 355. 356. 357. 358. 359. 360. 361. 362. 363. 364. 365.]\n",
            "Max Temp (°C):  [  0.    2.    2.   15.   -1.    2.5   4.    6.    7.    7.   -2.5   0.\n",
            "  -5.   -0.5   4.5   3.5   0.   -7.   -3.   -2.   -3.   -2.   -5.    2.\n",
            "   5.5   6.    2.    2.    0.    5.    9.    8.    6.   12.    4.    1.5\n",
            "   4.    5.    3.    0.   -2.    6.   -3.  -18.   -4.    0.    0.   -1.\n",
            "   8.   12.    7.    0.    0.    2.5   5.5  10.   -4.5  -4.    0.    2.\n",
            "   4.5   9.    9.   14.   12.    8.   10.    7.5  10.   10.    9.    6.5\n",
            "   0.    1.5   5.    4.5   5.    2.    0.    3.5  12.    8.    7.    8.\n",
            "  13.   11.5   5.5  -1.    0.    0.5   8.    7.5   4.    1.5   4.    8.\n",
            "   8.    6.5   7.5  14.   14.   18.   20.   15.   12.   13.   18.   16.\n",
            "   7.   13.   10.   11.5  11.   14.   19.   18.5  18.   13.   12.5  15.5\n",
            "  18.5  20.   22.   13.    9.   14.5  20.5  24.5  23.5  25.   25.5  23.\n",
            "  27.5  25.   27.   29.   27.   18.5  24.5  25.   23.5  20.5  23.   21.\n",
            "  15.   20.   20.   31.   20.   20.   18.5  23.5  27.   28.5  27.   29.\n",
            "  30.   24.   25.   23.   24.   25.   29.   31.5  24.5  22.   26.   25.\n",
            "  27.   28.   29.   31.   26.5  27.5  27.   24.   27.   28.   26.   26.\n",
            "  21.   25.   31.5  27.   24.5  28.5  36.   33.5  26.   31.   27.   29.5\n",
            "  28.   25.5  25.   25.   27.5  26.5  27.   29.   29.5  29.5  28.5  29.\n",
            "  28.5  31.   31.   31.5  26.5  27.5  25.   27.   24.   28.5  26.   29.5\n",
            "  27.   24.   25.   27.   28.   27.   25.   31.   25.   27.   28.   23.\n",
            "  24.   22.   23.   25.5  28.   30.   30.   28.   28.   23.5  23.   25.\n",
            "  22.   19.   21.5  22.   24.   24.5  27.   25.5  25.   17.5  19.5  17.\n",
            "  17.5  21.   22.   17.   18.5  17.5  20.5  20.   20.   19.   21.5  20.\n",
            "  20.   13.   12.   16.5  20.   18.   18.   18.5  21.   20.   22.5  20.\n",
            "  15.   10.    9.   14.   10.    7.    5.5   5.5  14.   19.5   8.    9.5\n",
            "  14.5  20.5  14.5  12.5  16.5  12.   13.5  15.    9.   15.    6.5  10.\n",
            "  11.   12.5  11.   12.5  11.   15.   14.    1.    1.5   3.5   1.5   4.\n",
            "   7.    8.5   7.5   9.   12.   12.    7.    5.    5.    3.    7.    5.\n",
            "   4.    1.   -1.   -3.    2.    4.    1.   -3.5  -7.   -2.5   0.5  -2.5\n",
            "  -1.    2.    2.5   4.    3.5   5.    2.    9.5   2.    2.    3.    2.\n",
            "   5. ]\n",
            "Min Temp (°C):  [ -2.   -4.   -2.  -15.  -16.   -7.   -6.   -3.    2.    5.   -7.   -9.\n",
            " -11.   -8.   -3.5   0.   -3.  -12.  -15.   -5.5  -6.  -10.  -12.  -12.\n",
            "  -2.    2.   -3.   -1.   -9.   -8.   -3.    3.    0.5   0.5   1.5  -4.\n",
            "  -1.5  -3.    0.   -4.   -4.  -17.  -13.  -27.  -25.  -14.   -5.  -18.\n",
            " -11.5   3.    2.   -4.5  -6.   -2.   -5.5   1.5 -11.  -12.5  -8.5  -5.\n",
            "   0.    1.5   2.    2.    7.    1.   -1.    5.    6.    5.   -0.5   2.\n",
            "  -6.5  -6.   -6.   -6.    2.   -2.   -2.   -6.   -4.    5.   -1.   -3.5\n",
            "   5.    7.   -1.5  -7.   -6.   -8.5  -3.5   1.   -4.   -6.   -8.   -1.\n",
            "   0.   -5.    2.    1.5   2.    2.5   5.    7.    2.    4.    7.5   5.\n",
            "   1.5   1.    7.    6.    2.5   3.5   8.    5.    7.    4.5   2.5   5.\n",
            "   5.    7.   11.    9.    2.    4.5  11.   11.   11.5  10.   11.   14.\n",
            "  14.   16.   17.   16.   12.   11.   14.   12.5  13.   16.   15.   12.5\n",
            "  10.5   7.    8.   10.5  14.5  11.    9.    9.   15.   14.   13.   14.\n",
            "  17.5  14.   14.   10.   12.   14.   15.   19.   17.5  13.   12.   10.5\n",
            "  12.   17.   16.   19.   21.   18.5  16.5  17.   17.   20.5  21.   17.\n",
            "  15.   12.   20.   13.   11.5  14.5  21.   20.   20.   21.   18.5  15.5\n",
            "  20.   19.5  18.   20.   18.5  17.   16.5  18.   24.   19.   16.   16.5\n",
            "  15.   21.   20.   25.   22.   21.   16.   21.   15.   19.   17.   20.\n",
            "  22.   12.   12.   15.   22.   19.5  15.5  21.   18.   15.   19.5  14.\n",
            "  14.   13.   11.   13.5  16.   20.   22.   18.5  17.   16.    9.5  13.5\n",
            "  16.    9.5  10.   16.   17.   14.   15.5  11.   14.5  13.    8.    6.\n",
            "  11.    7.5  12.   14.   15.   15.   15.   13.   12.5  13.   13.   14.\n",
            "  14.    7.    1.5   3.5   5.   13.    1.    5.5  13.5  14.   14.    9.\n",
            "  11.    9.    4.    3.5   5.    4.   -2.    1.    0.    5.    7.   -1.5\n",
            "   1.5   9.5   9.    2.    4.    2.    2.    1.5   6.    3.    5.   -4.5\n",
            "   2.    4.5   0.    1.5   1.    4.    5.   -1.   -2.   -2.   -6.   -1.5\n",
            "   2.    3.5   2.5   1.5   6.5   2.    5.    3.    0.   -4.   -1.   -1.5\n",
            "   2.    0.   -7.   -5.   -7.   -2.   -2.   -8.  -12.5 -14.   -7.   -5.\n",
            " -13.5  -9.   -3.   -0.5  -1.    1.    0.   -6.5   0.   -3.   -1.   -3.\n",
            "  -3.5]\n",
            "Total Precip (mm):  [ 0.   0.   0.   0.   0.   0.   0.   0.  29.8 12.8  3.5  5.   2.   0.5\n",
            "  9.4  0.   0.   0.   0.   0.   0.   0.   0.   0.   1.   0.7  1.   1.\n",
            "  0.   0.   5.   0.   9.6  0.   0.   0.5  0.   0.   0.   1.   0.   0.\n",
            "  0.   0.   0.   7.   5.   0.   0.   0.   0.   0.   0.  22.   0.   0.\n",
            "  0.   0.   0.   0.   0.   0.   0.   0.6  8.4  0.   9.8  3.2  4.2  3.4\n",
            "  3.1  0.   0.   0.   0.   1.6  0.6  3.6  0.   0.   9.   2.2  0.   9.6\n",
            " 24.   0.6  0.   9.   0.   0.   9.4  0.   0.   0.   8.8  2.2  0.   0.\n",
            "  0.   0.   0.   0.   0.   0.   0.   2.4  0.   0.   5.6  3.2  2.   0.\n",
            "  0.   0.   1.   0.   0.6  1.6  0.   0.   0.   0.6  2.6  2.   0.   0.\n",
            "  0.   0.   0.6  0.   0.   0.6  0.   0.   0.   0.   0.   0.   0.   0.\n",
            " 10.   3.   4.6  0.   0.   0.   8.   0.   0.   0.   0.   0.   0.   0.\n",
            "  0.   0.   0.6  1.2  0.   0.   0.   0.   3.8  0.   0.   3.   0.   0.\n",
            "  0.   0.   0.   0.  35.   3.2  0.   0.   0.   0.4  0.   0.   0.   0.\n",
            "  0.   0.   0.   0.   0.   0.  18.   0.   0.  11.8  1.   0.   0.   1.6\n",
            "  0.   0.   0.   0.   6.6  0.   0.   0.   0.   0.   0.   1.8 26.8  0.\n",
            " 20.4  9.   0.   0.   0.  14.   0.   0.   0.   3.2  4.   0.   0.6  0.\n",
            "  0.   0.   0.   0.   0.   0.   0.   0.   0.  29.   0.4  0.   7.6  0.\n",
            "  0.   0.   0.4  0.   3.   2.4  0.5  0.   0.   0.   0.4  1.   0.   0.\n",
            "  9.4  0.   0.   3.4  0.   3.6  3.4  0.   0.   0.   0.   2.   0.   0.\n",
            "  0.   0.   0.   1.   0.   0.6  4.6  0.6  4.8  3.   6.2  6.   0.   0.\n",
            "  0.8  0.   2.   7.6  0.   3.2  0.   0.   0.  16.6  0.4  0.   0.   0.\n",
            "  0.   1.4  0.   0.   0.   0.   0.   0.   0.   0.   0.   0.   1.   0.\n",
            "  0.   0.   2.8  1.4  2.6  1.2  0.   4.4  0.2 13.   0.   0.2  0.   8.2\n",
            "  0.   6.8  0.6  1.   0.   1.   9.   0.   0.   0.   7.   9.   1.   0.\n",
            "  0.   0.   1.   0.   0.   0.   1.4 17.2  0.   2.   0.   1.   0. ]\n"
          ]
        }
      ],
      "source": [
        "# your code here\n",
        "# column name in csv file: Day,Max Temp (°C),Min Temp (°C),Mean Temp (°C),Total Precip (mm)\n",
        "# day = weather[???]\n",
        "\n",
        "day = weather[: , 0]\n",
        "max_temp = weather[: , 1]\n",
        "min_temp = weather[:, 2]\n",
        "mean_temp = weather[:, 3]\n",
        "total_precip = weather[: , 4]\n",
        "\n",
        "print(\"Day: \", day)\n",
        "print(\"Max Temp (°C): \", max_temp)\n",
        "print(\"Min Temp (°C): \", min_temp)\n",
        "print(\"Total Precip (mm): \",   total_precip)"
      ]
    },
    {
      "cell_type": "markdown",
      "metadata": {
        "id": "eOxkeOzwMB3h"
      },
      "source": [
        "#### Plot the minimum temperature as a function of day number"
      ]
    },
    {
      "cell_type": "code",
      "execution_count": 51,
      "metadata": {
        "colab": {
          "base_uri": "https://localhost:8080/",
          "height": 507
        },
        "id": "Hy4uvCYVMB3h",
        "outputId": "f573fff7-66ac-494d-e91c-853e86623746"
      },
      "outputs": [
        {
          "output_type": "display_data",
          "data": {
            "text/plain": [
              "<Figure size 640x480 with 1 Axes>"
            ],
            "image/png": "[encoded data removed]"
          },
          "metadata": {}
        },
        {
          "output_type": "execute_result",
          "data": {
            "text/plain": [
              "<Figure size 4800x2400 with 0 Axes>"
            ]
          },
          "metadata": {},
          "execution_count": 51
        },
        {
          "output_type": "display_data",
          "data": {
            "text/plain": [
              "<Figure size 4800x2400 with 0 Axes>"
            ]
          },
          "metadata": {}
        }
      ],
      "source": [
        "plt.plot(day, min_temp, color='red', marker='.', linestyle='-', label='Minimum Temperature')\n",
        "plt.title('Minimum Temperature as a Function of a Day Number')\n",
        "plt.xlabel('Day of the Week')\n",
        "plt.ylabel('Minimum Temperature')\n",
        "plt.legend()\n",
        "\n",
        "plt.show()\n",
        "\n",
        "plt.figure(figsize=(48, 24))"
      ]
    },
    {
      "cell_type": "markdown",
      "metadata": {
        "id": "XNZLNABTMB3h"
      },
      "source": [
        "#### Plot the max temperature in degrees Fahrenheit"
      ]
    },
    {
      "cell_type": "code",
      "execution_count": 52,
      "metadata": {
        "colab": {
          "base_uri": "https://localhost:8080/",
          "height": 489
        },
        "id": "qLLRmwxjMB3h",
        "outputId": "e276832c-b6f7-4910-aa22-bf45e797d12f"
      },
      "outputs": [
        {
          "output_type": "execute_result",
          "data": {
            "text/plain": [
              "<matplotlib.legend.Legend at 0x7edcd016b0d0>"
            ]
          },
          "metadata": {},
          "execution_count": 52
        },
        {
          "output_type": "display_data",
          "data": {
            "text/plain": [
              "<Figure size 640x480 with 1 Axes>"
            ],
            "image/png": "[encoded data removed]"
          },
          "metadata": {}
        }
      ],
      "source": [
        "max_temp_fahrenheit = (max_temp * 9/5) + 32\n",
        "\n",
        "plt.plot(day, max_temp_fahrenheit, marker='.', linestyle='-', color='blue', label='Max Temperature in Fahrenheit')\n",
        "plt.xlabel('Day')\n",
        "plt.ylabel('Maximum Temperature (°F)')\n",
        "plt.title('Max Temperature in Fahrenheit')\n",
        "plt.legend()"
      ]
    },
    {
      "cell_type": "markdown",
      "metadata": {
        "id": "5y5ZLJNYMB3h"
      },
      "source": [
        "#### Plot the difference between the maximum and the minimum day temperature as a function of day number"
      ]
    },
    {
      "cell_type": "code",
      "execution_count": 53,
      "metadata": {
        "colab": {
          "base_uri": "https://localhost:8080/",
          "height": 489
        },
        "id": "wUpkk-sJMB3i",
        "outputId": "00b3be30-4286-437d-a9d1-ce74850d56fc"
      },
      "outputs": [
        {
          "output_type": "execute_result",
          "data": {
            "text/plain": [
              "<matplotlib.legend.Legend at 0x7edcbd71b3d0>"
            ]
          },
          "metadata": {},
          "execution_count": 53
        },
        {
          "output_type": "display_data",
          "data": {
            "text/plain": [
              "<Figure size 640x480 with 1 Axes>"
            ],
            "image/png": "[encoded data removed]"
          },
          "metadata": {}
        }
      ],
      "source": [
        "difference = max_temp - min_temp\n",
        "plt.plot(day, difference, marker='.', linestyle='-', color='r', label='Difference of Max and Min Temp')\n",
        "plt.title('Difference of Maximum and Minimum day Temperature')\n",
        "plt.xlabel('Day')\n",
        "plt.ylabel('Difference of Temperature (°C)')\n",
        "plt.legend()"
      ]
    },
    {
      "cell_type": "markdown",
      "metadata": {
        "id": "ieH-XQ7tMB3i"
      },
      "source": [
        "#### Plot both, the minimum and maximum temperature on the same figure"
      ]
    },
    {
      "cell_type": "code",
      "execution_count": 54,
      "metadata": {
        "colab": {
          "base_uri": "https://localhost:8080/",
          "height": 489
        },
        "id": "rkzhZ79kMB3i",
        "outputId": "6532f821-0bcd-4e45-99af-d2a3e9064945"
      },
      "outputs": [
        {
          "output_type": "execute_result",
          "data": {
            "text/plain": [
              "<matplotlib.legend.Legend at 0x7edcbd7ae8c0>"
            ]
          },
          "metadata": {},
          "execution_count": 54
        },
        {
          "output_type": "display_data",
          "data": {
            "text/plain": [
              "<Figure size 640x480 with 1 Axes>"
            ],
            "image/png": "[encoded data removed]"
          },
          "metadata": {}
        }
      ],
      "source": [
        "plt.plot(day, max_temp, marker='.', linestyle='-', color='b', label='Max Temperature (°C)')\n",
        "plt.plot(day, min_temp, marker='.', linestyle='-', color='r', label='Min Temperature (°C)')\n",
        "plt.xlabel('Day')\n",
        "plt.ylabel('Temperature (°C)')\n",
        "plt.title('Maximum and Minimum Temperature')\n",
        "plt.legend()"
      ]
    },
    {
      "cell_type": "markdown",
      "metadata": {
        "id": "QmOpqFkVMB3i"
      },
      "source": [
        "#### Add axis labels and a legend to the plot above\n",
        "Use the following functions:\n",
        " - plt.xlabel\n",
        " - plt.ylabel\n",
        " - plt.title\n",
        " - plt.legend"
      ]
    },
    {
      "cell_type": "markdown",
      "metadata": {
        "id": "G308Z9x4MB3i"
      },
      "source": [
        "#### Plot the precipitation as a function of max temperature\n",
        "You probably don't want a line connecting the dots.\n",
        "Are there any patterns you can spot?"
      ]
    },
    {
      "cell_type": "code",
      "execution_count": 55,
      "metadata": {
        "colab": {
          "base_uri": "https://localhost:8080/",
          "height": 489
        },
        "id": "0Jw6NuKdMB3j",
        "outputId": "4c2a39f3-c1dd-47a9-b5b7-69e5dcf81bef"
      },
      "outputs": [
        {
          "output_type": "execute_result",
          "data": {
            "text/plain": [
              "<matplotlib.legend.Legend at 0x7edcbd7ad000>"
            ]
          },
          "metadata": {},
          "execution_count": 55
        },
        {
          "output_type": "display_data",
          "data": {
            "text/plain": [
              "<Figure size 640x480 with 1 Axes>"
            ],
            "image/png": "[encoded data removed]"
          },
          "metadata": {}
        }
      ],
      "source": [
        "plt.scatter(max_temp, total_precip, color='b', label='Precipitation', marker='.')\n",
        "plt.xlabel('Max Temperature (°C)')\n",
        "plt.ylabel('Total Precipitation')\n",
        "plt.title('Precipitation')\n",
        "plt.legend()"
      ]
    },
    {
      "cell_type": "markdown",
      "metadata": {
        "id": "lrTC97_3MB3j"
      },
      "source": [
        "#### Plot the precipitation as a function of (t_max - t_min)"
      ]
    },
    {
      "cell_type": "code",
      "execution_count": 56,
      "metadata": {
        "colab": {
          "base_uri": "https://localhost:8080/",
          "height": 489
        },
        "id": "6kZfXEFZMB3j",
        "outputId": "2b0251e9-590b-472c-812f-856fc4a3d1f2"
      },
      "outputs": [
        {
          "output_type": "execute_result",
          "data": {
            "text/plain": [
              "<matplotlib.legend.Legend at 0x7edcbc3646a0>"
            ]
          },
          "metadata": {},
          "execution_count": 56
        },
        {
          "output_type": "display_data",
          "data": {
            "text/plain": [
              "<Figure size 640x480 with 1 Axes>"
            ],
            "image/png": "[encoded data removed]"
          },
          "metadata": {}
        }
      ],
      "source": [
        "plt.scatter(difference, total_precip, color='b', label='Precipitation')\n",
        "plt.xlabel('Difference of Max and Min Temperature (°C)')\n",
        "plt.ylabel('Total Precipitation')\n",
        "plt.title('Precipitation as a function of t_max and t_min')\n",
        "plt.legend()"
      ]
    },
    {
      "cell_type": "markdown",
      "metadata": {
        "id": "OniB3eWPMB3j"
      },
      "source": [
        "#### Read about plt.hist() function and plot a histogram of the maximum temperatures"
      ]
    },
    {
      "cell_type": "code",
      "execution_count": 57,
      "metadata": {
        "colab": {
          "base_uri": "https://localhost:8080/",
          "height": 489
        },
        "id": "Sv4HlfVAMB3j",
        "outputId": "7eddc65d-f83c-4f08-dd01-001c398cbe0b"
      },
      "outputs": [
        {
          "output_type": "execute_result",
          "data": {
            "text/plain": [
              "Text(0.5, 1.0, 'Histogram of Maximum Temperature')"
            ]
          },
          "metadata": {},
          "execution_count": 57
        },
        {
          "output_type": "display_data",
          "data": {
            "text/plain": [
              "<Figure size 640x480 with 1 Axes>"
            ],
            "image/png": "[encoded data removed]"
          },
          "metadata": {}
        }
      ],
      "source": [
        "plt.hist(max_temp, bins=20, color='b')\n",
        "plt.xlabel('Max Temperature (°C)')\n",
        "plt.ylabel('')\n",
        "plt.title('Histogram of Maximum Temperature')"
      ]
    },
    {
      "cell_type": "markdown",
      "metadata": {
        "id": "-wuu-EhXMB3j"
      },
      "source": [
        "#### Plot a histogram of the differences between the min and max temperature"
      ]
    },
    {
      "cell_type": "code",
      "execution_count": 58,
      "metadata": {
        "colab": {
          "base_uri": "https://localhost:8080/",
          "height": 489
        },
        "id": "_HnZHBm5MB3k",
        "outputId": "89940c3a-6844-4fcc-c434-aba821d6ef49"
      },
      "outputs": [
        {
          "output_type": "execute_result",
          "data": {
            "text/plain": [
              "Text(0.5, 1.0, 'Histogram of the Differences')"
            ]
          },
          "metadata": {},
          "execution_count": 58
        },
        {
          "output_type": "display_data",
          "data": {
            "text/plain": [
              "<Figure size 640x480 with 1 Axes>"
            ],
            "image/png": "[encoded data removed]"
          },
          "metadata": {}
        }
      ],
      "source": [
        "plt.hist(difference, bins=20, color='r')\n",
        "plt.xlabel('Max and Min Difference (°C)')\n",
        "plt.ylabel('')\n",
        "plt.title('Histogram of the Differences')"
      ]
    },
    {
      "cell_type": "markdown",
      "metadata": {
        "id": "OAZD6If7MB3k"
      },
      "source": [
        "#### For each day calculate the average of the 3 temperatures in the data (min max and avg)\n"
      ]
    },
    {
      "cell_type": "code",
      "execution_count": 59,
      "metadata": {
        "colab": {
          "base_uri": "https://localhost:8080/"
        },
        "id": "5ZHISsl6MB3k",
        "outputId": "35e4e9f1-f651-455e-c296-6cd71b945b2d"
      },
      "outputs": [
        {
          "output_type": "stream",
          "name": "stdout",
          "text": [
            "Average Temperature for each Day:  [ -1.          -1.           0.           0.          -8.5\n",
            "  -2.26666667  -1.           1.5          4.5          6.\n",
            "  -4.76666667  -4.5         -8.          -4.26666667   0.5\n",
            "   1.76666667  -1.5         -9.5         -9.          -3.76666667\n",
            "  -4.5         -6.          -8.5         -5.           1.76666667\n",
            "   4.          -0.5          0.5         -4.5         -1.5\n",
            "   3.           5.5          3.26666667   6.26666667   2.76666667\n",
            "  -1.26666667   1.26666667   1.           1.5         -2.\n",
            "  -3.          -5.5         -8.         -22.5        -14.5\n",
            "  -7.          -2.5         -9.5         -1.76666667   7.5\n",
            "   4.5         -2.26666667  -3.           0.26666667   0.\n",
            "   5.76666667  -7.76666667  -8.26666667  -4.26666667  -1.5\n",
            "   2.26666667   5.26666667   5.5          8.           9.5\n",
            "   4.5          4.5          6.26666667   8.           7.5\n",
            "   4.26666667   4.26666667  -3.26666667  -2.26666667  -0.5\n",
            "  -0.76666667   3.5          0.          -1.          -1.26666667\n",
            "   4.           6.5          3.           2.26666667   9.\n",
            "   9.26666667   2.          -4.          -3.          -4.\n",
            "   2.26666667   4.26666667   0.          -2.26666667  -2.\n",
            "   3.5          4.           0.76666667   4.76666667   7.76666667\n",
            "   8.          10.26666667  12.5         11.           7.\n",
            "   8.5         12.76666667  10.5          4.26666667   7.\n",
            "   8.5          8.76666667   6.76666667   8.76666667  13.5\n",
            "  11.76666667  12.5          8.76666667   7.5         10.26666667\n",
            "  11.76666667  13.5         16.5         11.           5.5\n",
            "   9.5         15.76666667  17.76666667  17.5         17.5\n",
            "  18.26666667  18.5         20.76666667  20.5         22.\n",
            "  22.5         19.5         14.76666667  19.26666667  18.76666667\n",
            "  18.26666667  18.26666667  19.          16.76666667  12.76666667\n",
            "  13.5         14.          20.76666667  17.26666667  15.5\n",
            "  13.76666667  16.26666667  21.          21.26666667  20.\n",
            "  21.5         23.76666667  19.          19.5         16.5\n",
            "  18.          19.5         22.          25.26666667  21.\n",
            "  17.5         19.          17.76666667  19.5         22.5\n",
            "  22.5         25.          23.76666667  23.          21.76666667\n",
            "  20.5         22.          24.26666667  23.5         21.5\n",
            "  18.          18.5         25.76666667  20.          18.\n",
            "  21.5         28.5         26.76666667  23.          26.\n",
            "  22.76666667  22.5         24.          22.5         21.5\n",
            "  22.5         23.          21.76666667  21.76666667  23.5\n",
            "  26.76666667  24.26666667  22.26666667  22.76666667  21.76666667\n",
            "  26.          25.5         28.26666667  24.26666667  24.26666667\n",
            "  20.5         24.          19.5         23.76666667  21.5\n",
            "  24.76666667  24.5         18.          18.5         21.\n",
            "  25.          23.26666667  20.26666667  26.          21.5\n",
            "  21.          23.76666667  18.5         19.          17.5\n",
            "  17.          19.5         22.          25.          26.\n",
            "  23.26666667  22.5         19.76666667  16.26666667  19.26666667\n",
            "  19.          14.26666667  15.76666667  19.          20.5\n",
            "  19.26666667  21.26666667  18.26666667  19.76666667  15.26666667\n",
            "  13.76666667  11.5         14.26666667  14.26666667  17.\n",
            "  15.5         16.76666667  16.26666667  17.76666667  16.5\n",
            "  16.26666667  16.          17.26666667  17.          17.\n",
            "  10.           6.76666667  10.          12.5         15.5\n",
            "   9.5         12.          17.26666667  17.          18.26666667\n",
            "  14.5         13.           9.5          6.5          8.76666667\n",
            "   7.5          5.5          1.76666667   3.26666667   7.\n",
            "  12.26666667   7.5          4.           8.          15.\n",
            "  11.76666667   7.26666667  10.26666667   7.           7.76666667\n",
            "   8.26666667   7.5          9.           5.76666667   2.76666667\n",
            "   6.5          8.5          5.5          7.           6.\n",
            "   9.5          9.5          0.          -0.26666667   0.76666667\n",
            "  -2.26666667   1.26666667   4.5          6.           5.\n",
            "   5.26666667   9.26666667   7.           6.           4.\n",
            "   2.5         -0.5          3.           1.76666667   3.\n",
            "   0.5         -4.          -4.          -2.5          1.\n",
            "  -0.5         -5.76666667  -9.76666667  -8.26666667  -3.26666667\n",
            "  -3.76666667  -7.26666667  -3.5         -0.26666667   1.76666667\n",
            "   1.26666667   3.           1.           1.5          1.\n",
            "  -0.5          1.          -0.5          0.76666667]\n"
          ]
        }
      ],
      "source": [
        "average_temp = (max_temp + min_temp + mean_temp) / 3\n",
        "print('Average Temperature for each Day: ', average_temp)"
      ]
    },
    {
      "cell_type": "markdown",
      "metadata": {
        "id": "7cznrhsHMB3k"
      },
      "source": [
        "#### Calculate the total amount of precipitation for the whole year\n",
        "Does the number seem reasonable? The annual average precipitation in Toronto is 831 mm according to https://en.wikipedia.org/wiki/Geography_of_Toronto"
      ]
    },
    {
      "cell_type": "code",
      "execution_count": 60,
      "metadata": {
        "colab": {
          "base_uri": "https://localhost:8080/"
        },
        "id": "GIZm2ZQgMB3k",
        "outputId": "714eca56-1984-45d0-923c-2ccd41a9e9a2"
      },
      "outputs": [
        {
          "output_type": "stream",
          "name": "stdout",
          "text": [
            "Total Precipitation for the whole year:  662.8\n"
          ]
        }
      ],
      "source": [
        "whole_year = round(np.sum(total_precip), 2)\n",
        "print('Total Precipitation for the whole year: ', whole_year)"
      ]
    },
    {
      "cell_type": "markdown",
      "metadata": {
        "id": "xIDnC4MyMB3k"
      },
      "source": [
        "#### Calculate the total precipitation on all odd numbered days (day 1, 3, 5 and so on)"
      ]
    },
    {
      "cell_type": "code",
      "execution_count": 61,
      "metadata": {
        "colab": {
          "base_uri": "https://localhost:8080/"
        },
        "id": "NgqVksfbMB3l",
        "outputId": "c1c52949-01fe-420f-e809-4574f2312b05"
      },
      "outputs": [
        {
          "output_type": "stream",
          "name": "stdout",
          "text": [
            "Total Precipitation for all odd number days in a year:  291.4\n"
          ]
        }
      ],
      "source": [
        "odd_number_day = total_precip[day % 2 != 0]\n",
        "total_odd_number_day = round(np.sum(odd_number_day), 2)\n",
        "print('Total Precipitation for all odd number days in a year: ', total_odd_number_day)"
      ]
    }
  ],
  "metadata": {
    "kernelspec": {
      "display_name": "Python 3 (ipykernel)",
      "language": "python",
      "name": "python3"
    },
    "language_info": {
      "codemirror_mode": {
        "name": "ipython",
        "version": 3
      },
      "file_extension": ".py",
      "mimetype": "text/x-python",
      "name": "python",
      "nbconvert_exporter": "python",
      "pygments_lexer": "ipython3",
      "version": "3.11.4"
    },
    "colab": {
      "provenance": []
    }
  },
  "nbformat": 4,
  "nbformat_minor": 0
}